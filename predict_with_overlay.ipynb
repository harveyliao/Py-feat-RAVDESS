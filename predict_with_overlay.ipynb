{
 "cells": [
  {
   "cell_type": "code",
   "execution_count": null,
   "metadata": {},
   "outputs": [],
   "source": [
    "from feat import Detector # py-feat\n",
    "import imageio.v2 as imageio # to create video from frames\n",
    "import io"
   ]
  },
  {
   "cell_type": "code",
   "execution_count": null,
   "metadata": {},
   "outputs": [],
   "source": [
    "detector = Detector(face_model='retinaface', \n",
    "                    landmark_model='mobilenet', \n",
    "                    au_model='xgb', \n",
    "                    emotion_model='resmasknet', \n",
    "                    facepose_model='img2pose-c', # constrained version of img2pose, for frontal face\n",
    "                    identity_model='facenet', \n",
    "                    device='cuda', \n",
    "                    n_jobs=1, \n",
    "                    verbose=False,\n",
    "                    )"
   ]
  },
  {
   "cell_type": "code",
   "execution_count": null,
   "metadata": {},
   "outputs": [],
   "source": [
    "\n",
    "video_path = \"F:\\\\RAVDESS\\\\Actor_14\\\\01-01-02-02-02-02-14.mp4\"\n",
    "print(video_path)\n",
    "output_filename = f'F:\\\\tracked_overlay\\\\{video_path[-24:-4]}_tracked.mp4'\n",
    "print(output_filename)"
   ]
  },
  {
   "cell_type": "code",
   "execution_count": null,
   "metadata": {},
   "outputs": [],
   "source": [
    "print(\"running py-feat detector\")\n",
    "# run detector\n",
    "video_prediction = detector.detect_video(video_path, \n",
    "                                         skip_frames=None, \n",
    "                                         output_size=720, \n",
    "                                         batch_size=1, \n",
    "                                         num_workers=0, \n",
    "                                         pin_memory=False, \n",
    "                                         face_detection_threshold=0.5, \n",
    "                                         face_identity_threshold=0.8\n",
    "                                         )\n"
   ]
  },
  {
   "cell_type": "code",
   "execution_count": null,
   "metadata": {},
   "outputs": [],
   "source": [
    "\n",
    "# Constants for video settings\n",
    "VIDEO_WIDTH, VIDEO_HEIGHT = 1280, 720  # Desired resolutionFalse\n",
    "DPI = 100  # Resolution in dots per inch\n",
    "\n",
    "print(\"generating overlay for each frame\")\n",
    "# generate overlay for each frame\n",
    "figs = video_prediction.plot_detections(faces='landmarks', \n",
    "                                          faceboxes=True, \n",
    "                                          muscles=False, \n",
    "                                          poses=True, \n",
    "                                          gazes=False, \n",
    "                                          add_titles=False, \n",
    "                                          au_barplot=False, \n",
    "                                          emotion_barplot=False, \n",
    "                                          plot_original_image=True\n",
    "                                          );\n",
    "\n",
    "# Create a video writer object, specifying the output file, codec, and framerate\n",
    "writer = imageio.get_writer(output_filename, fps=30, codec='libx264', format='FFMPEG', macro_block_size=None)\n",
    "\n",
    "print(\"generating video\")\n",
    "# Loop through each figure in the list, adjust size, save it to a buffer, and append it to the video\n",
    "for fig in figs:\n",
    "    # Set the figure size to correspond to the desired pixel dimensions\n",
    "    # fig.set_size_inches(VIDEO_WIDTH / DPI, VIDEO_HEIGHT / DPI)\n",
    "    \n",
    "    # Use a buffer to save the figure\n",
    "    buf = io.BytesIO()\n",
    "    fig.savefig(buf, format='png', dpi=DPI)\n",
    "    buf.seek(0)\n",
    "    \n",
    "    # Read the image from the buffer and add it to the video\n",
    "    image = imageio.imread(buf)\n",
    "    writer.append_data(image)\n",
    "    \n",
    "    # Close the buffer\n",
    "    buf.close()\n",
    "\n",
    "# Close the writer to finalize the video\n",
    "writer.close()\n",
    "\n",
    "print(f'Video saved as {output_filename}')\n"
   ]
  }
 ],
 "metadata": {
  "kernelspec": {
   "display_name": "feat-git",
   "language": "python",
   "name": "python3"
  },
  "language_info": {
   "codemirror_mode": {
    "name": "ipython",
    "version": 3
   },
   "file_extension": ".py",
   "mimetype": "text/x-python",
   "name": "python",
   "nbconvert_exporter": "python",
   "pygments_lexer": "ipython3",
   "version": "3.9.13"
  }
 },
 "nbformat": 4,
 "nbformat_minor": 2
}
